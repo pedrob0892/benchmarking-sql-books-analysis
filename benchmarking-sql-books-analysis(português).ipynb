{
 "cells": [
  {
   "cell_type": "markdown",
   "id": "9451b581-ff08-4e86-97ae-836e8b3e39bd",
   "metadata": {},
   "source": [
    "# Objetivo"
   ]
  },
  {
   "cell_type": "markdown",
   "id": "4c4b3c85-ac7c-4fc0-86bf-420d4cd6c990",
   "metadata": {},
   "source": [
    "<span style=\"color: black; font-family: Arial; font-size: 20px;\">\n",
    "O objetivo deste estudo é analisar dados de um serviço concorrente para entender padrões de publicação, avaliação e engajamento de leitores diante de um cenário onde houveram mudanças de comportamento provocadas pela pandemia do coronavírus onde pessoas passaram a ficar mais em casa e a consumir mais livros.\n",
    "Essas informações serão fundamentais para embasar decisões estratégicas de desenvolvimento de um novo produto, aumentando as chances de sucesso em um mercado em expansão."
   ]
  },
  {
   "cell_type": "markdown",
   "id": "7c8d6706-f6b0-43a3-bf51-ac274992a695",
   "metadata": {},
   "source": [
    "# Carregando os dados"
   ]
  },
  {
   "cell_type": "code",
   "execution_count": 4,
   "id": "de978dc4-ff9c-466c-ab6c-2424baea4bef",
   "metadata": {},
   "outputs": [],
   "source": [
    "# Importando bibliotecas\n",
    "import pandas as pd\n",
    "from sqlalchemy import create_engine"
   ]
  },
  {
   "cell_type": "code",
   "execution_count": 5,
   "id": "310219d2-cacc-4757-a89b-e0ae2481a60f",
   "metadata": {},
   "outputs": [
    {
     "name": "stdout",
     "output_type": "stream",
     "text": [
      "DF_BOOKS\n",
      "   book_id  author_id                                              title  \\\n",
      "0        1        546                                       'Salem's Lot   \n",
      "1        2        465                 1 000 Places to See Before You Die   \n",
      "2        3        407  13 Little Blue Envelopes (Little Blue Envelope...   \n",
      "3        4         82  1491: New Revelations of the Americas Before C...   \n",
      "4        5        125                                               1776   \n",
      "\n",
      "   num_pages publication_date  publisher_id  \n",
      "0        594       2005-11-01            93  \n",
      "1        992       2003-05-22           336  \n",
      "2        322       2010-12-21           135  \n",
      "3        541       2006-10-10           309  \n",
      "4        386       2006-07-04           268  \n",
      "\n",
      "DF_AUTHORS\n",
      "   author_id                          author\n",
      "0          1                      A.S. Byatt\n",
      "1          2  Aesop/Laura Harris/Laura Gibbs\n",
      "2          3                 Agatha Christie\n",
      "3          4                   Alan Brennert\n",
      "4          5        Alan Moore/David   Lloyd\n",
      "\n",
      "DF_PUBLISHERS\n",
      "   publisher_id                          publisher\n",
      "0             1                                Ace\n",
      "1             2                           Ace Book\n",
      "2             3                          Ace Books\n",
      "3             4                      Ace Hardcover\n",
      "4             5  Addison Wesley Publishing Company\n",
      "\n",
      "DF_RATINGS\n",
      "   rating_id  book_id       username  rating\n",
      "0          1        1     ryanfranco       4\n",
      "1          2        1  grantpatricia       2\n",
      "2          3        1   brandtandrea       5\n",
      "3          4        2       lorichen       3\n",
      "4          5        2    mariokeller       2\n",
      "\n",
      "DF_REVIEWS\n",
      "   review_id  book_id       username  \\\n",
      "0          1        1   brandtandrea   \n",
      "1          2        1     ryanfranco   \n",
      "2          3        2       lorichen   \n",
      "3          4        3  johnsonamanda   \n",
      "4          5        3    scotttamara   \n",
      "\n",
      "                                                text  \n",
      "0  Mention society tell send professor analysis. ...  \n",
      "1  Foot glass pretty audience hit themselves. Amo...  \n",
      "2  Listen treat keep worry. Miss husband tax but ...  \n",
      "3  Finally month interesting blue could nature cu...  \n",
      "4  Nation purpose heavy give wait song will. List...  \n"
     ]
    }
   ],
   "source": [
    "# Configurando as credenciais de conexão\n",
    "db_config = {\n",
    "    'user': 'practicum_student',\n",
    "    'pwd': 'QnmDH8Sc2TQLvy2G3Vvh7',\n",
    "    'host': 'yp-trainers-practicum.cluster-czs0gxyx2d8w.us-east-1.rds.amazonaws.com',\n",
    "    'port': 5432,\n",
    "    'db': 'data-analyst-final-project-db'\n",
    "}\n",
    "\n",
    "# Montando a string de conexão\n",
    "connection_string = 'postgresql://{}:{}@{}:{}/{}'.format(\n",
    "    db_config['user'],\n",
    "    db_config['pwd'],\n",
    "    db_config['host'],\n",
    "    db_config['port'],\n",
    "    db_config['db']\n",
    ")\n",
    "\n",
    "# Criando a engine\n",
    "engine = create_engine(connection_string, connect_args={'sslmode':'require'})\n",
    "\n",
    "# Fazendo uma consulta de teste e abrindo as primeiras linhas das tabelas\n",
    "query_books = 'SELECT * FROM books LIMIT 5;'\n",
    "query_authors = 'SELECT * FROM authors LIMIT 5;'\n",
    "query_publishers = 'SELECT * FROM publishers LIMIT 5;'\n",
    "query_ratings = 'SELECT * FROM ratings LIMIT 5;'\n",
    "query_reviews = 'SELECT * FROM reviews LIMIT 5;'\n",
    "\n",
    "df_books = pd.read_sql(query_books, con=engine)\n",
    "df_authors = pd.read_sql(query_authors, con=engine)\n",
    "df_publishers = pd.read_sql(query_publishers, con=engine)\n",
    "df_ratings = pd.read_sql(query_ratings, con=engine)\n",
    "df_reviews = pd.read_sql(query_reviews, con=engine)\n",
    "\n",
    "print('DF_BOOKS')\n",
    "print(df_books)\n",
    "print()\n",
    "print('DF_AUTHORS')\n",
    "print(df_authors)\n",
    "print()\n",
    "print('DF_PUBLISHERS')\n",
    "print(df_publishers)\n",
    "print()\n",
    "print('DF_RATINGS')\n",
    "print(df_ratings)\n",
    "print()\n",
    "print('DF_REVIEWS')\n",
    "print(df_reviews)"
   ]
  },
  {
   "cell_type": "markdown",
   "id": "cda6e56d-fdce-4b99-b188-50ded351c193",
   "metadata": {},
   "source": [
    "# Análises e conclusões"
   ]
  },
  {
   "cell_type": "markdown",
   "id": "a04326b9-f60e-48a2-b5f0-94a7dc1f8d3a",
   "metadata": {},
   "source": [
    "<span style=\"color: blue; font-family: Arial; font-size: 20px;\">\n",
    "Encontrando o número de livros lançados depois de 1 de janeiro de 2000."
   ]
  },
  {
   "cell_type": "code",
   "execution_count": 11,
   "id": "e72ef862-9a51-45cc-b814-4c0d90fbaf75",
   "metadata": {},
   "outputs": [
    {
     "name": "stdout",
     "output_type": "stream",
     "text": [
      "   num_books_after_2000\n",
      "0                   819\n"
     ]
    }
   ],
   "source": [
    "query_1 = \"\"\"\n",
    "SELECT COUNT(*) AS num_books_after_2000\n",
    "FROM books\n",
    "WHERE publication_date > '2000-01-01';\n",
    "\"\"\"\n",
    "\n",
    "books_after_2000 = pd.read_sql(query_1, con=engine)\n",
    "print(books_after_2000)"
   ]
  },
  {
   "cell_type": "markdown",
   "id": "ed2326a0-cbc1-4406-9ea4-77fde7ec251d",
   "metadata": {},
   "source": [
    "<span style=\"color: black; font-family: Arial; font-size: 20px;\">\n",
    "819 livros foram lançados depois de 1 de janeiro de 2000."
   ]
  },
  {
   "cell_type": "markdown",
   "id": "278de067-4871-4b15-bad7-b64efa3e2401",
   "metadata": {},
   "source": [
    "<span style=\"color: blue; font-family: Arial; font-size: 20px;\">\n",
    "Encontrando o número de avaliações e a classificação média para cada livro."
   ]
  },
  {
   "cell_type": "code",
   "execution_count": 15,
   "id": "c783352f-1f8b-40c0-ae12-cd4e6e515817",
   "metadata": {},
   "outputs": [
    {
     "name": "stdout",
     "output_type": "stream",
     "text": [
      "                                               title  avg_rating  review_count\n",
      "0                            Twilight (Twilight  #1)    3.662500             7\n",
      "1  Harry Potter and the Prisoner of Azkaban (Harr...    4.414634             6\n",
      "2  Harry Potter and the Chamber of Secrets (Harry...    4.287500             6\n",
      "3                                     The Book Thief    4.264151             6\n",
      "4                                   The Glass Castle    4.206897             6\n",
      "5                The Hobbit  or There and Back Again    4.125000             6\n",
      "6                          Outlander (Outlander  #1)    4.125000             6\n",
      "7  The Curious Incident of the Dog in the Night-Time    4.081081             6\n",
      "8  The Lightning Thief (Percy Jackson and the Oly...    4.080645             6\n",
      "9                                Water for Elephants    3.977273             6\n"
     ]
    }
   ],
   "source": [
    "query_2 = \"\"\"SELECT\n",
    "               books.title,\n",
    "               subquery.avg_rating,\n",
    "               subquery.review_count\n",
    "               FROM\n",
    "                   (SELECT\n",
    "                        reviews.book_id as book_id,\n",
    "                        COUNT (DISTINCT reviews.review_id) AS review_count,\n",
    "                        AVG (ratings.rating) AS avg_rating\n",
    "                    FROM\n",
    "                        reviews\n",
    "                        INNER JOIN ratings ON ratings.book_id = reviews.book_id\n",
    "                    GROUP BY\n",
    "                        reviews.book_id\n",
    "                    ORDER BY\n",
    "                        review_count DESC,\n",
    "                        avg_rating DESC) AS subquery\n",
    "                    INNER JOIN books ON subquery.book_id = books.book_id\n",
    "               ORDER BY\n",
    "                   review_count DESC,\n",
    "                   avg_rating DESC\n",
    "               LIMIT 10\"\"\"\n",
    "\n",
    "ratings_per_book = pd.read_sql(query_2, con=engine)\n",
    "print(ratings_per_book.head(10))"
   ]
  },
  {
   "cell_type": "markdown",
   "id": "1775eb27-a6c6-4675-bbe9-c03fc31a1555",
   "metadata": {},
   "source": [
    "<span style=\"color: black; font-family: Arial; font-size: 20px;\">\n",
    "Acima mostrando os 10 primeiros livros com seus números de avaliações e classificações médias."
   ]
  },
  {
   "cell_type": "markdown",
   "id": "c6ba852a-3a53-4622-8e61-e5c496c3a3ea",
   "metadata": {},
   "source": [
    "<span style=\"color: blue; font-family: Arial; font-size: 20px;\">\n",
    "Identificando a editora que lançou o maior número de livros com mais de 50 páginas."
   ]
  },
  {
   "cell_type": "code",
   "execution_count": 19,
   "id": "14df1add-9007-47a2-aa47-736bebcaefb8",
   "metadata": {},
   "outputs": [
    {
     "name": "stdout",
     "output_type": "stream",
     "text": [
      "   publisher_id      publisher  num_books\n",
      "0           212  Penguin Books         42\n"
     ]
    }
   ],
   "source": [
    "query_3 = \"\"\"\n",
    "SELECT \n",
    "    p.publisher_id,\n",
    "    p.publisher,\n",
    "    COUNT(b.book_id) AS num_books\n",
    "FROM publishers AS p\n",
    "JOIN books AS b ON p.publisher_id = b.publisher_id\n",
    "WHERE b.num_pages > 50\n",
    "GROUP BY p.publisher_id, p.publisher\n",
    "ORDER BY num_books DESC\n",
    "LIMIT 1;\n",
    "\"\"\"\n",
    "\n",
    "best_publisher = pd.read_sql(query_3, con=engine)\n",
    "print(best_publisher)"
   ]
  },
  {
   "cell_type": "markdown",
   "id": "59a3c767-c8e8-4a6c-bbbf-79ae276b51b0",
   "metadata": {},
   "source": [
    "<span style=\"color: black; font-family: Arial; font-size: 20px;\">\n",
    "'Penguin Books' foi a editora que lançou o maior número de livros com mais de 50 páginas."
   ]
  },
  {
   "cell_type": "markdown",
   "id": "d91afdab-faf6-4237-8f1e-f09cb143302a",
   "metadata": {},
   "source": [
    "<span style=\"color: blue; font-family: Arial; font-size: 20px;\">\n",
    "Identificando o autor com a média mais alta de classificação de livros (apenas para livros com pelo menos 50 classificações)."
   ]
  },
  {
   "cell_type": "code",
   "execution_count": 23,
   "id": "8fae0f18-3270-4676-b857-8b3d35dc22f1",
   "metadata": {},
   "outputs": [
    {
     "name": "stdout",
     "output_type": "stream",
     "text": [
      "                              author  final_avg\n",
      "0         J.K. Rowling/Mary GrandPré   4.283844\n",
      "1  Markus Zusak/Cao Xuân Việt Khương   4.264151\n",
      "2                     J.R.R. Tolkien   4.258446\n",
      "3                  Louisa May Alcott   4.192308\n",
      "4                       Rick Riordan   4.080645\n"
     ]
    }
   ],
   "source": [
    "query_4 = \"\"\"SELECT\n",
    "                   authors.author,\n",
    "                   AVG (subquery2.avg_rating) as final_avg            \n",
    "               FROM\n",
    "                   (SELECT\n",
    "                       books.title,\n",
    "                       books.author_id,\n",
    "                       subquery1.avg_rating\n",
    "                   FROM\n",
    "                       (SELECT\n",
    "                           book_id,\n",
    "                           COUNT (rating_id) AS rating_cnt,\n",
    "                           AVG (rating) AS avg_rating\n",
    "                       FROM\n",
    "                           ratings\n",
    "                       GROUP BY\n",
    "                           book_id\n",
    "                       HAVING\n",
    "                           COUNT (rating_id) > 50) AS subquery1\n",
    "                       INNER JOIN books ON books.book_id = subquery1.book_id) AS subquery2\n",
    "                   INNER JOIN authors ON authors.author_id = subquery2.author_id\n",
    "               GROUP BY\n",
    "                   author\n",
    "               ORDER BY\n",
    "                   final_avg DESC\n",
    "               LIMIT 5\"\"\"\n",
    "\n",
    "best_author = pd.read_sql(query_4, con=engine)\n",
    "print(best_author)"
   ]
  },
  {
   "cell_type": "markdown",
   "id": "c2724055-81ac-49f3-9a81-5424beb2439b",
   "metadata": {},
   "source": [
    "<span style=\"color: black; font-family: Arial; font-size: 20px;\">\n",
    "'J.K. Rowling/Mary GrandPré' foi a o autora com a média mais alta de classificação de livros que contém pelo menos 50 classificações, mostrando uma classificação média de 4.28."
   ]
  },
  {
   "cell_type": "markdown",
   "id": "9e6ae543-e002-455c-956a-d35efc68cdb6",
   "metadata": {},
   "source": [
    "<span style=\"color: blue; font-family: Arial; font-size: 20px;\">\n",
    "Encontrando o número médio de avaliações entre usuários que classificaram mais do que 50 livros."
   ]
  },
  {
   "cell_type": "code",
   "execution_count": 27,
   "id": "aecb6636-c855-4b4d-9e53-16aaa27b3291",
   "metadata": {},
   "outputs": [
    {
     "name": "stdout",
     "output_type": "stream",
     "text": [
      "   avg_review_cnt\n",
      "0       24.333333\n"
     ]
    }
   ],
   "source": [
    "query_5 = \"\"\"SELECT\n",
    "                   AVG (subquery2.review_cnt) AS avg_review_cnt\n",
    "               FROM\n",
    "                   (SELECT\n",
    "                       COUNT (reviews.review_id) as review_cnt,\n",
    "                       subquery1.username\n",
    "                   FROM\n",
    "                       (SELECT\n",
    "                           username,\n",
    "                           COUNT (rating_id) AS rating_cnt\n",
    "                       FROM\n",
    "                           ratings\n",
    "                       GROUP BY\n",
    "                           username\n",
    "                       HAVING\n",
    "                           COUNT (rating_id) > 50) AS subquery1\n",
    "                       INNER JOIN reviews ON reviews.username = subquery1.username\n",
    "                   GROUP BY\n",
    "                       subquery1.username) AS subquery2\"\"\"\n",
    "\n",
    "mean_ratings = pd.read_sql(query_5, con=engine)\n",
    "print(mean_ratings)"
   ]
  },
  {
   "cell_type": "markdown",
   "id": "9b82e749-1854-419b-a704-5796558d75f8",
   "metadata": {},
   "source": [
    "<span style=\"color: black; font-family: Arial; font-size: 20px;\">\n",
    "Usuários que classificaram mais do que 50 livros deram em média 24 avaliações."
   ]
  }
 ],
 "metadata": {
  "kernelspec": {
   "display_name": "Python [conda env:base] *",
   "language": "python",
   "name": "conda-base-py"
  },
  "language_info": {
   "codemirror_mode": {
    "name": "ipython",
    "version": 3
   },
   "file_extension": ".py",
   "mimetype": "text/x-python",
   "name": "python",
   "nbconvert_exporter": "python",
   "pygments_lexer": "ipython3",
   "version": "3.12.7"
  }
 },
 "nbformat": 4,
 "nbformat_minor": 5
}
